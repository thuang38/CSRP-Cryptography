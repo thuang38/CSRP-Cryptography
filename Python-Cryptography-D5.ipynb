{
 "cells": [
  {
   "cell_type": "markdown",
   "id": "16fdcea2",
   "metadata": {},
   "source": [
    "# Cryptography with Python (Day 5)"
   ]
  },
  {
   "cell_type": "markdown",
   "id": "0f21fd26",
   "metadata": {},
   "source": [
    "## Confidentiality\n",
    "\n",
    "How can we ensure confidentiality of our information and messages? That is to say... how can we make sure that only our intended recipients can access the information? \n",
    "##### Encryption - Encryption is a way to secure data through the use of encoding. Think of how we used ciphers to encode messages as numbers in our earlier days. Now we will apply that, but with increased sophistication such that the security of our information is robust and reliable. \n",
    "\n",
    "In this module, we will explore three encryption protocols using our Python coding notebooks. To explore each of these encryption protocols, we will use a classical cybersecurity scenario of Bob and Alice -- two individuals who want to communicate privately without a 3rd party that can intercept and read their messages."
   ]
  },
  {
   "cell_type": "markdown",
   "id": "2a282d2b",
   "metadata": {},
   "source": [
    "## Symmetric Key Encryption\n",
    "\n",
    "In symmetric key encryption, Bob and Alice each encrypt their message, each using their own secret key that they have agreed upon \"out of channel\". For example, assume that the duo are texting one another using the encrypted messages. They would have first had to have agreed upon their secret keys via a phone call or written letter, prior to engaging in encrypted conversation via text messaging. This is called symmetric key encryption, as the key used to encrypted the message is the same key as the one used to decrypt the message. \n",
    "\n",
    "Using the code block below, explore the application of symmetric key encryption to encrypting a message from Bob to Alice. Here we are using a simple shift cipher, but we could use any combination of the three ciphers we have investigated thus far. "
   ]
  },
  {
   "cell_type": "markdown",
   "id": "1adf4fa4",
   "metadata": {},
   "source": [
    "##### Symmetric Key Encryption using a cipher (Code Block A)"
   ]
  },
  {
   "cell_type": "code",
   "execution_count": 1,
   "id": "0f08215a",
   "metadata": {},
   "outputs": [
    {
     "name": "stdout",
     "output_type": "stream",
     "text": [
      "What is Bob's plain text message to Alice? hello Alice\n",
      "What is Bob's secret key that he has shared with Alice out of channel? 4\n",
      "The encrypted message Alice receives is: ƠƔưưƼĄưƤƌƔ\n",
      "The unencrypted, plain text message Alice can read after decryption is: hello Alice\n"
     ]
    }
   ],
   "source": [
    "BobMessage = input(\"What is Bob's plain text message to Alice? \")\n",
    "BobKey = int(input(\"What is Bob's secret key that he has shared with Alice out of channel? \"))\n",
    "BobMessageEncrypted = \"\"\n",
    "for l in BobMessage:\n",
    "    c = ord(l) * BobKey\n",
    "    BobMessageEncrypted += (chr(c))\n",
    "print('The encrypted message Alice receives is:', BobMessageEncrypted)\n",
    "BobMessageUnencrypted = \"\"\n",
    "for l in BobMessageEncrypted: \n",
    "    c = int(ord(l) / BobKey)\n",
    "    BobMessageUnencrypted += (chr(c))\n",
    "print(\"The unencrypted, plain text message Alice can read after decryption is:\", BobMessageUnencrypted)"
   ]
  },
  {
   "cell_type": "markdown",
   "id": "98ed6f27",
   "metadata": {},
   "source": [
    "### Using multiple rounds of a cipher\n",
    "\n",
    "You may notice that the above encryption example is pretty basic -- it is just a simple shift cipher applied to communication between two individuals. \n",
    "\n",
    "To improve upon the security of ciphers, encryption protocols can use ciphers in sequence. That is to say, they can use Cipher A to encode the plain text data into cipher text, and then use Cipher B to further encode the ciper text. \n",
    "\n",
    "Using multiple cipher rounds is a common practice in encryption protocols. In the code below, we used a three different types of ciphers to produce the ciphertext. Can you figure out which ciphers were used and where they appear in the code?"
   ]
  },
  {
   "cell_type": "markdown",
   "id": "a6f8e134",
   "metadata": {},
   "source": [
    "##### Symmetric Key Encryption using multiple cipher rounds (Code Block B)"
   ]
  },
  {
   "cell_type": "code",
   "execution_count": 2,
   "id": "50e04b31",
   "metadata": {},
   "outputs": [
    {
     "name": "stdout",
     "output_type": "stream",
     "text": [
      "What is the message Bob wants to send to Alice? Hello Alice!\n",
      "What is the shift key you wish to use? This should be an integer number. 4\n",
      "What is the substitution key you wish to use? This should be a string of all 26 letters used once in random order. qwertyuioplkjhgfdsazxcvbnm\n",
      "What is the transposition key you wish to use? This should be an integer number. 5\n",
      "Message after first cipher round: Lipps Epmgi!\n",
      "Message after second cipher round:  koffa tfjuo!\n",
      "The length of your plaintext message is: 13\n",
      "Your padded message is:  koffa tfjuo!  \n",
      "The length of your padded message is: 15\n",
      "Message after third cipher round:  auk oot!ff fj \n",
      "This is the encrypted message Alice receives:  auk oot!ff fj \n"
     ]
    }
   ],
   "source": [
    "import random ## this is library we are using to help generate a random integer in one of the cipher scripts\n",
    "\n",
    "\n",
    "## here we are defining each of the ciphers separately as a function that we can invoke\n",
    "## note that each cipher block is repeated from Day 3's notebook with minor changes to reflect\n",
    "## that the plaintext message is now Bob's message (BobMessage)\n",
    "\n",
    "def shift_cipher(BobMessage, ShiftKey): \n",
    "    ciphertext0 = \"\"\n",
    "    for char in BobMessage:\n",
    "        if char.isalpha():\n",
    "            shifted_char = chr((ord(char) + ShiftKey))\n",
    "            ciphertext0 += shifted_char\n",
    "        else:\n",
    "            ciphertext0 += char\n",
    "    print(\"Message after first cipher round:\", ciphertext0)\n",
    "    return ciphertext0\n",
    "\n",
    "import string ##import library\n",
    "\n",
    "##define the function to encode a plaintext msg using sub cipher\n",
    "def substitution_cipher(ciphertext0, SubstitutionKey): \n",
    "    \n",
    "##set alphabet to string with all lowercase ascii char\n",
    "    alphabet = string.ascii_lowercase \n",
    "    \n",
    "##set cipher to dictionary that maps alpha char to corresponding letter in the key\n",
    "    cipher = dict(zip(alphabet, SubstitutionKey)) \n",
    "##initialize ciphertext variable\n",
    "    ciphertext1 = str(\" \")\n",
    "##loop through each character in the plaintext message\n",
    "    for char in ciphertext0.lower():\n",
    "        ## if the letter appears in the cipher dictionary, produce \n",
    "        ## the corresponding cipher letter\n",
    "        if char in cipher:\n",
    "            ciphertext1 += cipher[char]\n",
    "        ## if the character isn't in the dictionary, return plaintext character\n",
    "        else: \n",
    "            ciphertext1 += char\n",
    "    print(\"Message after second cipher round:\", ciphertext1) \n",
    "    return ciphertext1 ##store results in ciphertext variable\n",
    "     \n",
    "def transposition_cipher(ciphertext1, TranspositionKey):    \n",
    "    print(\"The length of your plaintext message is:\", len(ciphertext1))\n",
    "    ciphertext1 += \" \" * ((TranspositionKey - len(ciphertext1)) % TranspositionKey)\n",
    "    print(\"Your padded message is:\", ciphertext1)\n",
    "    print(\"The length of your padded message is:\", len(ciphertext1))\n",
    "    # Split the plaintext into rows of length key\n",
    "    rows = [ciphertext1[i:i+TranspositionKey] for i in range(0, len(ciphertext1), TranspositionKey)]\n",
    "    # Transpose the rows to form the ciphertext\n",
    "    ciphertext2 = \"\" # initialize ciphertext variable\n",
    "    for i in range(TranspositionKey):\n",
    "        for row in rows:\n",
    "            ciphertext2 += row[i]\n",
    "    print(\"Message after third cipher round:\", ciphertext2)\n",
    "    return ciphertext2\n",
    "\n",
    "def encrypt(BobMessage): ## this is the final function that uses the three functions defined above\n",
    "    ciphertext0 = shift_cipher(BobMessage, ShiftKey)\n",
    "    ciphertext1 = substitution_cipher(ciphertext0, SubstitutionKey)\n",
    "    ciphertext2 = transposition_cipher(ciphertext1, TranspositionKey)\n",
    "    return ciphertext2\n",
    "\n",
    "# Example usage\n",
    "BobMessage = input(\"What is the message Bob wants to send to Alice? \")\n",
    "ShiftKey = int(input(\"What is the shift key you wish to use? This should be an integer number. \"))\n",
    "SubstitutionKey = str(input(\"What is the substitution key you wish to use? This should be a string of all 26 letters used once in random order. \"))\n",
    "TranspositionKey = int(input(\"What is the transposition key you wish to use? This should be an integer number. \"))\n",
    "\n",
    "ciphertext = encrypt(BobMessage)\n",
    "print(\"This is the encrypted message Alice receives:\", ciphertext)"
   ]
  },
  {
   "cell_type": "markdown",
   "id": "a6e241c7",
   "metadata": {},
   "source": [
    "### More symmetric key encryption - 3 pass encryption\n",
    "\n",
    "The Three Pass Protocol for encryption relies upon a basic, fundamental property of mathematics -- the _commutative property_. This protocol uses the commutative property to allow individuals to exchange encrypted messages _without_ knowing each other's keys. The illustration below operates on the shift cipher. \n",
    "\n",
    "One can imagine the utility of this approach, which allows two individuals to agree upon a protocol for encryption, but without having to establish a key or list of keys, which could ultimately be compromised. You'll note that three pass protocol encryption is technically a subform of symmetric key encryption, as the keys used to encrypt and decrypt are the same numbers. But, it is mathematically curious to see the commutative property of mathematics \"in action\", and for that reason, we will explore this as a useful venture in cryptography from that perspective.\n",
    "\n",
    "As suggested by the name, the three pass protocol requires three \"passes\" of the message. Use the code block below to explore the three pass encryption protocol. Once you have explored how this code block works, see if you can improve upon it by assigning each pass to a function, and then creating new lines of code that call upon a \"main function\" that invokes the three functions for each pass (and a final function for decryption). "
   ]
  },
  {
   "cell_type": "markdown",
   "id": "84b51c68",
   "metadata": {},
   "source": [
    "##### Example Three Pass Protocol (Code Block C)"
   ]
  },
  {
   "cell_type": "code",
   "execution_count": 3,
   "id": "d996f73d",
   "metadata": {},
   "outputs": [
    {
     "name": "stdout",
     "output_type": "stream",
     "text": [
      "What is Bob's plain text message to Alice? Hello Alice how are you?\n",
      "What is the secret key that Bob will use to encrypt the message? 7\n",
      "The message Bob first passes the Alice is: Ǹ˃˴˴̉àǇ˴˟ʵ˃à˘̉́àʧ̞˃à͏̳̉ƹ\n",
      "What is the secret key that Alice will use to encrypt the message? 6\n",
      "Alice then passes the following doubly-encrypted message back to Bob: ௐ႒ᆸᆸሶՀપᆸᄺှ႒ՀᄐሶᎆՀ࿪ኴ႒ՀᏚሶጲ੖\n",
      "Bob then passes the encrypted message back to Alice. The message at this stage is: ưɞʈʈʚÀƆʈɶɒɞÀɰʚˊÀɆʬɞÀ˖ʚʾź\n",
      "The final unencrypted message that Alice reads is: Hello Alice how are you?\n"
     ]
    }
   ],
   "source": [
    "BobMessage = input(\"What is Bob's plain text message to Alice? \")\n",
    "BobKey = int(input(\"What is the secret key that Bob will use to encrypt the message? \"))\n",
    "BobPassOne = \"\"\n",
    "for l in BobMessage:\n",
    "    c = ord(l) * BobKey\n",
    "    BobPassOne += (chr(c))\n",
    "print(\"The message Bob first passes the Alice is:\", BobPassOne)\n",
    "\n",
    "AliceKey = int(input(\"What is the secret key that Alice will use to encrypt the message? \"))\n",
    "AlicePassTwo = \"\"\n",
    "for l in BobPassOne:\n",
    "    c = int(ord(l) * AliceKey)\n",
    "    AlicePassTwo += (chr(c))\n",
    "print(\"Alice then passes the following doubly-encrypted message back to Bob:\", AlicePassTwo)\n",
    "\n",
    "BobPassThree = \"\"\n",
    "for l in AlicePassTwo:\n",
    "    c = int(ord(l) / BobKey)\n",
    "    BobPassThree += (chr(c))\n",
    "print(\"Bob then passes the encrypted message back to Alice. The message at this stage is:\", BobPassThree)\n",
    "\n",
    "AliceFinalMessage = \"\"\n",
    "for l in BobPassThree: \n",
    "    c = int(ord(l) / AliceKey)\n",
    "    AliceFinalMessage += (chr(c))\n",
    "print('The final unencrypted message that Alice reads is:', AliceFinalMessage)"
   ]
  },
  {
   "cell_type": "markdown",
   "id": "fa8183d2",
   "metadata": {},
   "source": [
    "### Your turn - creating a new encryption protocol"
   ]
  },
  {
   "cell_type": "markdown",
   "id": "f5d2d936",
   "metadata": {},
   "source": [
    "At this point, you are ready to begin designing and developing your own encryption protocol. You will begin designing it today, and then continue its development in Days 6 through 8 of this module. \n",
    "\n",
    "To begin designing, you should use the paper-based activity \"Designing an encryption protocol\". Once your design has been approved by your teacher, you may begin developing it using a Python notebook.\n",
    "\n",
    "After development, you will test your encryption protocol by putting it up to be \"cracked\" by your peers. If you've developed a good encryption protocol, it should be able to withstand your classmate's brute force attempts at cracking!"
   ]
  }
 ],
 "metadata": {
  "kernelspec": {
   "display_name": "Python 3 (ipykernel)",
   "language": "python",
   "name": "python3"
  },
  "language_info": {
   "codemirror_mode": {
    "name": "ipython",
    "version": 3
   },
   "file_extension": ".py",
   "mimetype": "text/x-python",
   "name": "python",
   "nbconvert_exporter": "python",
   "pygments_lexer": "ipython3",
   "version": "3.9.7"
  }
 },
 "nbformat": 4,
 "nbformat_minor": 5
}
