{
 "cells": [
  {
   "cell_type": "markdown",
   "id": "46d07447",
   "metadata": {},
   "source": [
    "# Jupyter Notebook Introduction with Python (Day 1)\n",
    "\n",
    "---\n",
    "\n",
    "The notebook is intended to introduce Jupyter Notebook by running some simple Python code. \n",
    "Students should be able to run the Python code in each cell of the notebook without errors.\n",
    "\n",
    "Jupyter Notebook is an open source web application that you can use to create and share documents that contain live code, equations, visualizations, and text."
   ]
  },
  {
   "cell_type": "markdown",
   "id": "0adf3c8f",
   "metadata": {},
   "source": [
    "### Markdown\n",
    "This is a cell containing [Markdown](https://www.markdownguide.org/) code. Markdown is a \"markup\" language, which is a text-encoding system that lets you control how a document is displayed. If you have created webpages before, you have used a markup language: HTML."
   ]
  },
  {
   "cell_type": "markdown",
   "id": "f3442199",
   "metadata": {},
   "source": [
    "### Code\n",
    "Underneath this cell is a cell containing code, specifically Python code. Jupyter Notebook is based on [Python](https://www.python.org/about/gettingstarted/), but other languages can be used."
   ]
  },
  {
   "cell_type": "code",
   "execution_count": 1,
   "id": "29465709",
   "metadata": {},
   "outputs": [
    {
     "name": "stdout",
     "output_type": "stream",
     "text": [
      "x is an array containing 5 zeros: [0. 0. 0. 0. 0.]\n"
     ]
    }
   ],
   "source": [
    "# This is the 1st cell containing some Python code\n",
    "\n",
    "import numpy as np\n",
    "\n",
    "# use the numpy library to create an array containing 5 zeros\n",
    "x = np.zeros(5)\n",
    "\n",
    "print(\"x is an array containing 5 zeros:\", x)"
   ]
  },
  {
   "cell_type": "code",
   "execution_count": 2,
   "id": "39903139",
   "metadata": {},
   "outputs": [
    {
     "name": "stdout",
     "output_type": "stream",
     "text": [
      "y is: [10. 10. 10. 10. 10.]\n"
     ]
    }
   ],
   "source": [
    "# This is the 2nd cell, where x from the 1st cell is required\n",
    "\n",
    "# add the number 10 to each elements in x\n",
    "y = x + 10\n",
    "\n",
    "print(\"y is:\", y)"
   ]
  },
  {
   "cell_type": "code",
   "execution_count": 3,
   "id": "49c20fca",
   "metadata": {},
   "outputs": [
    {
     "name": "stdout",
     "output_type": "stream",
     "text": [
      "Here are the fruits stored in the fruits variable:\n",
      "apples\n",
      "grapes\n",
      "oranges\n",
      "watermelon\n",
      "The 3rd fruit in fruits is: oranges\n",
      "Person 1's full name is: Bob Jones\n",
      "Person 2's birth date is: 1995-04-05\n"
     ]
    }
   ],
   "source": [
    "# This is the 3rd cell and is independent of the cells above, i.e., no need to run the cells above beforehand \n",
    "# for the code here to run\n",
    "\n",
    "import datetime\n",
    "\n",
    "# define a list containing some strings\n",
    "fruits = [\"apples\", \"grapes\", \"oranges\", \"watermelon\"]\n",
    "\n",
    "print(\"Here are the fruits stored in the fruits variable:\")\n",
    "for fruit in fruits:\n",
    "    print(fruit)\n",
    "    \n",
    "# find the 3rd fruit in fruits\n",
    "print(\"The 3rd fruit in fruits is:\", fruits[2]) # note that the index is 2\n",
    "    \n",
    "# define a couple of Python dictionaries containing personal information\n",
    "person1 = {\"Full Name\": \"Bob Jones\", \"Birth Date\": datetime.date(1998, 10, 20), \"Gender\": \"M\"}\n",
    "person2 = {\"Full Name\": \"Mary Smith\", \"Birth Date\": datetime.date(1995, 4, 5), \"Gender\": \"F\"}\n",
    "\n",
    "# find person1's full name\n",
    "print(\"Person 1's full name is:\", person1[\"Full Name\"])\n",
    "\n",
    "# find person2's birth date\n",
    "print(\"Person 2's birth date is:\", person2[\"Birth Date\"])\n",
    "\n",
    "# how can you find person2's gender? Add your solution below:\n"
   ]
  },
  {
   "cell_type": "markdown",
   "id": "eba63cd7",
   "metadata": {},
   "source": [
    "## Try adding some more code in a new cell and run it if applicable"
   ]
  }
 ],
 "metadata": {
  "kernelspec": {
   "display_name": "Python 3 (ipykernel)",
   "language": "python",
   "name": "python3"
  },
  "language_info": {
   "codemirror_mode": {
    "name": "ipython",
    "version": 3
   },
   "file_extension": ".py",
   "mimetype": "text/x-python",
   "name": "python",
   "nbconvert_exporter": "python",
   "pygments_lexer": "ipython3",
   "version": "3.9.12"
  }
 },
 "nbformat": 4,
 "nbformat_minor": 5
}
