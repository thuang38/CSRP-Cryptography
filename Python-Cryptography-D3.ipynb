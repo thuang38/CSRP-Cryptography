{
 "cells": [
  {
   "cell_type": "markdown",
   "id": "67187b68",
   "metadata": {},
   "source": [
    "# Cryptography with Python (Day 3)"
   ]
  },
  {
   "cell_type": "markdown",
   "id": "783aed14",
   "metadata": {},
   "source": [
    "## Beyond the shift cipher - other ciphers and their application\n",
    "\n",
    "In this notebook, we will explore three other ciphers and how they can be applied to encrypt plain text to cipher text. Our three ciphers of focus are: \n",
    "\n",
    "1. Substitution ciphers\n",
    "2. Transposition ciphers\n",
    "3. Block ciphers\n",
    "\n",
    "At the end of this activity, you will be tasked with selecting and modifying at least one of the ciphers to create a new cipher tool for your toolbox. "
   ]
  },
  {
   "cell_type": "markdown",
   "id": "4d869e1a",
   "metadata": {},
   "source": [
    "### Substitution ciphers\n",
    "\n",
    "Substitution ciphers _replace_ characters in a plain text message with another character using a key. Unlike shift ciphers, here a substitution cipher key must be a string of characters or some sort of scheme that guides the substitution. \n",
    "\n",
    "Explore substitution ciphers using the code below. Can you identify what the substitution scheme is?"
   ]
  },
  {
   "cell_type": "code",
   "execution_count": 1,
   "id": "76212a92",
   "metadata": {},
   "outputs": [
    {
     "name": "stdout",
     "output_type": "stream",
     "text": [
      "What is the plain text message you wish to encode? hi Mom\n",
      "io jgj\n"
     ]
    }
   ],
   "source": [
    "import string ##import library\n",
    "\n",
    "##define the function to encode a plaintext msg using sub cipher\n",
    "def substitution_cipher_encode(plaintext, key): \n",
    "    \n",
    "##set alphabet to string with all lowercase ascii char\n",
    "    \n",
    "    alphabet = string.ascii_lowercase \n",
    "    \n",
    "##set cipher to dictionary that maps alpha char to corresponding letter in the key\n",
    "    cipher = dict(zip(alphabet, key)) \n",
    "##initialize ciphertext variable\n",
    "    ciphertext = \"\"\n",
    "##loop through each character in the plaintext message\n",
    "    for char in plaintext.lower():\n",
    "        ## if the letter appears in the cipher dictionary, produce \n",
    "        ## the corrresponding cipher letter\n",
    "        if char in cipher:\n",
    "            ciphertext += cipher[char]\n",
    "        ## if the character isn't in the dictionary, return plaintext character\n",
    "        else: \n",
    "            ciphertext += char\n",
    "    return ciphertext ##store results in ciphertext variable\n",
    "\n",
    "# Example usage\n",
    "plaintext = input(\"What is the plain text message you wish to encode? \")\n",
    "key = \"qwertyuioplkjhgfdsazxcvbnm\" # substitute a with q, b with w, c with e and so on ...\n",
    "ciphertext = substitution_cipher_encode(plaintext, key)\n",
    "print(ciphertext)  \n",
    "\n",
    "## you can test using the provided key\n",
    "## for the text [hello world], cipher should be [itkkg vgskr]\n",
    "## note the sample cipher is the keyboard layout for a standard US english keyboard"
   ]
  },
  {
   "cell_type": "code",
   "execution_count": 4,
   "id": "c38d9e96",
   "metadata": {},
   "outputs": [
    {
     "name": "stdout",
     "output_type": "stream",
     "text": [
      "abcdefghijklmnopqrstuvwxyz\n",
      "{'a': 'q', 'b': 'w', 'c': 'e', 'd': 'r', 'e': 't', 'f': 'y', 'g': 'u', 'h': 'i', 'i': 'o', 'j': 'p', 'k': 'l', 'l': 'k', 'm': 'j', 'n': 'h', 'o': 'g', 'p': 'f', 'q': 'd', 'r': 's', 's': 'a', 't': 'z', 'u': 'x', 'v': 'c', 'w': 'v', 'x': 'b', 'y': 'n', 'z': 'm'}\n"
     ]
    }
   ],
   "source": [
    "import string\n",
    "alphabet = string.ascii_lowercase\n",
    "print(alphabet)\n",
    "print(dict(zip(alphabet, \"qwertyuioplkjhgfdsazxcvbnm\")))"
   ]
  },
  {
   "cell_type": "markdown",
   "id": "3a97269e",
   "metadata": {},
   "source": [
    "### Transposition ciphers\n",
    "\n",
    "Transposition ciphers take the characters in a plain text message and move them around. In the code below, the plain text is first padded with spaces such that it is a multiple of the key. The characters are then grouped into groups that are the size of the key, and then the rows are transposed to produce the cipher text."
   ]
  },
  {
   "cell_type": "code",
   "execution_count": 2,
   "id": "719a4868",
   "metadata": {},
   "outputs": [
    {
     "name": "stdout",
     "output_type": "stream",
     "text": [
      "What is the plain text message you want to encode? we ride at dawn\n",
      "The length of your plaintext message is: 15\n",
      "Your padded plaintext message is: we ride at dawn   \n",
      "The length of your padded plaintext message is: 18\n",
      "wreta ei  w  dadn \n"
     ]
    }
   ],
   "source": [
    "def transposition_cipher_encode(plaintext, key):\n",
    "    \"\"\"Encode a plaintext message using a transposition cipher.\"\"\"\n",
    "    # The code below uses modular arithmetic to determine how many\n",
    "    # null characters (spaces) are required, such that\n",
    "    # when the plaintext is split into groups that are the length\n",
    "    # of the key, each group contains exactly \"key number of characters\"\n",
    "    # remember order of opeations; \n",
    "        # len(plaintext) % key --> how many characters are \"left over\"\n",
    "        # after dividing the length of the plaintext by the key\n",
    "        # key - len(plaintext) % key --> how many characters between length of key and\n",
    "        # remainder after dividing plain text by key\n",
    "    \n",
    "    print(\"The length of your plaintext message is:\", len(plaintext))\n",
    "    plaintext += \" \" * (key - len(plaintext) % key)\n",
    "    ##left this in here for confirming the length of the message after padding\n",
    "    print(\"Your padded plaintext message is:\", plaintext)\n",
    "    print(\"The length of your padded plaintext message is:\", len(plaintext))\n",
    "    # Split the plaintext into rows of length key\n",
    "    rows = [plaintext[i:i+key] for i in range(0, len(plaintext), key)]\n",
    "    # Transpose the rows to form the ciphertext\n",
    "    ciphertext = \"\" # initialize ciphertext variable\n",
    "    for i in range(key):\n",
    "        for row in rows:\n",
    "            ciphertext += row[i]\n",
    "    return ciphertext\n",
    "\n",
    "# Example usage\n",
    "plaintext = input(\"What is the plain text message you want to encode? \")\n",
    "key = 3 ## important --> key must be smaller than the length of the entire message\n",
    "ciphertext = transposition_cipher_encode(plaintext, key)\n",
    "print(ciphertext)\n"
   ]
  },
  {
   "cell_type": "code",
   "execution_count": 29,
   "id": "cc3228ff",
   "metadata": {},
   "outputs": [
    {
     "name": "stdout",
     "output_type": "stream",
     "text": [
      "modular: 1\n",
      "number of spaces to add: 3\n",
      "   .\n",
      "hello   .\n",
      "8\n",
      "row is: ['hell', 'o   ']\n",
      "current row: h\n",
      "current row: o\n",
      "current row: e\n",
      "current row:  \n",
      "current row: l\n",
      "current row:  \n",
      "current row: l\n",
      "current row:  \n",
      "cipher text is: hoe l l \n",
      "hi   world\n",
      "2\n"
     ]
    }
   ],
   "source": [
    "plaintext = \"hello\"\n",
    "key = 4\n",
    "\n",
    "print(\"modular:\", len(plaintext) % key)\n",
    "print(\"number of spaces to add:\", key - len(plaintext) % key)\n",
    "print(\" \" * (key - len(plaintext) % key) + \".\")\n",
    "\n",
    "plaintext += \" \" * (key - len(plaintext) % key)\n",
    "\n",
    "print(plaintext+\".\")\n",
    "print(len(plaintext))\n",
    "rows = [plaintext[i:i+key] for i in range(0, len(plaintext), key)]\n",
    "print(\"row is:\", rows)\n",
    "ciphertext = \"\" # initialize ciphertext variable\n",
    "for i in range(key):\n",
    "    for row in rows:\n",
    "        print(\"current row:\", row[i])\n",
    "        ciphertext += row[i]\n",
    "print(\"cipher text is:\", ciphertext)\n",
    "\n",
    "\n",
    "\n",
    "check = \"hi\" + \" \" * 3 + \"world\"\n",
    "print(check)\n",
    "\n",
    "check2 = 3 - 10 % 3\n",
    "print(check2)"
   ]
  },
  {
   "cell_type": "markdown",
   "id": "7ce82f5c",
   "metadata": {},
   "source": [
    "### Block ciphers\n",
    "\n",
    "Block ciphers take blocks of plain text and convert them into equally-sized cipher text using the key. This is different than the substitution cipher, as the block cipher converts an entire _block_ of characters vs. converting each character individually. This is useful, as it complicates attacks wherein someone tries to guess the key by evaluating different potential keys using the characters in a message.\n",
    "\n",
    "Below, we use the Cryptography python library to demonstrate a somewhat sophisticated implementation of the block cipher. The library is used to generate a random key that is of a particularly long byte size. This key is then used to encrypt the plain text message, which has been converted into bytes (Line 13). \n",
    "\n",
    "This example is more like real-world cryptography than the others we have investigated thus far, in part because the other ciphers are not as useful in real-world cryptography due to their relative weakness. Here, the key generated is a 32-byte encryption key, which is used in AES-256 encryption. AES-256 encryption is a standard encryption method accepted by the National Institute of Standards and Technology. \n",
    "\n",
    "It is useful to note that abstraction is being used in the code block below. Notice that the ciphertext is produced by a command (cipher.encrypt) -- which has abstracted away some of the elements we see in other code blocks, such as padding to ensure the plain text message is a multiple of the key length. "
   ]
  },
  {
   "cell_type": "code",
   "execution_count": 2,
   "id": "bb957205",
   "metadata": {},
   "outputs": [
    {
     "name": "stdout",
     "output_type": "stream",
     "text": [
      "What is the plain text message you wish to encode?hello world\n",
      "bytes of your plain text: b'hello world'\n",
      "Your encrypted message is: b'gAAAAABkMAGiL_pOwbHr47JLwST_YZ35mXyd9-pKhxu7f0HNGXxO-muVt4O-hK5-MhKElm3qsB0sJiP85lJC4RStQLrAJj1z1A=='\n",
      "The encryption key used was: b'wDWRAjrO_vKfvj8LSBkN788kpDDJQkiOjtcCrwanCHo='\n",
      "Your decrypted message is: b'hello world'\n"
     ]
    }
   ],
   "source": [
    "from cryptography.fernet import Fernet\n",
    "\n",
    "# Generate a random encryption key\n",
    "key = Fernet.generate_key()\n",
    "\n",
    "# Create a Fernet cipher object with the key\n",
    "cipher = Fernet(key)\n",
    "\n",
    "# Define the plaintext message\n",
    "plaintext = input(\"What is the plain text message you wish to encode?\")\n",
    "\n",
    "#Convert plaintext to bytes\n",
    "PlaintextB = bytes(plaintext, 'utf-8')\n",
    "print(\"bytes of your plain text:\", PlaintextB)\n",
    "\n",
    "# Use the cipher object to encrypt the plaintext message\n",
    "ciphertext = cipher.encrypt((PlaintextB))\n",
    "\n",
    "# Print the encrypted message and the encryption key\n",
    "print(\"Your encrypted message is:\", ciphertext)\n",
    "print(\"The encryption key used was:\", key)\n",
    "\n",
    "# decrypt the encrypted message\n",
    "print(\"Your decrypted message is:\", cipher.decrypt(ciphertext))"
   ]
  },
  {
   "cell_type": "code",
   "execution_count": null,
   "id": "d1fffc54",
   "metadata": {},
   "outputs": [],
   "source": []
  }
 ],
 "metadata": {
  "kernelspec": {
   "display_name": "Python 3 (ipykernel)",
   "language": "python",
   "name": "python3"
  },
  "language_info": {
   "codemirror_mode": {
    "name": "ipython",
    "version": 3
   },
   "file_extension": ".py",
   "mimetype": "text/x-python",
   "name": "python",
   "nbconvert_exporter": "python",
   "pygments_lexer": "ipython3",
   "version": "3.9.7"
  }
 },
 "nbformat": 4,
 "nbformat_minor": 5
}
