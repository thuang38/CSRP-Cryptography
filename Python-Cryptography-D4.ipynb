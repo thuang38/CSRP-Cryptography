{
 "cells": [
  {
   "cell_type": "markdown",
   "id": "b91e7ab7",
   "metadata": {},
   "source": [
    "# Cryptography with Python (Day 4)"
   ]
  },
  {
   "cell_type": "markdown",
   "id": "9690c1c2",
   "metadata": {},
   "source": [
    "### Thinking like an adversary\n",
    "\n",
    "In this notebook, we'll explore how to approach cybersecurity and cryptography like an adversary. Thinking like an adversary is a critical skill. Wouldn't you want to identify your own cyber weaknesses and vulnerabilities before someone _else_ does? \n",
    "\n",
    "To accomplish this, we will work through Python scripts that are capable of brute-forcing three ciphers we have explored thus far: \n",
    "\n",
    "1. Shift ciphers\n",
    "2. Substitution ciphers\n",
    "3. Transposition ciphers"
   ]
  },
  {
   "cell_type": "markdown",
   "id": "23cdae5e",
   "metadata": {},
   "source": [
    "### Cracking a shift cipher with brute force\n",
    "\n",
    "Recall that a shift cipher is a method of producing cipher text, wherein the characters in the plain text message are shifted by a mathematical value or function. For example, the plain text message below is encoded to cipher text using the function: \n",
    "\n",
    "_cipher text = plain text letter position + 3_\n",
    "\n",
    "plain text = cat\n",
    "\n",
    "cipher text = fdw\n",
    "\n",
    "#### Bruteforcing a simple shift cipher (Code Block A)"
   ]
  },
  {
   "cell_type": "code",
   "execution_count": 1,
   "id": "244f603e",
   "metadata": {},
   "outputs": [
    {
     "name": "stdout",
     "output_type": "stream",
     "text": [
      "What is your cipher text you wish to crack? m{rwt)vx{n)xju}rwn\n",
      "Shift 1: lzqvs(uwzm(wit|qvm\n",
      "Shift 2: kypur'tvyl'vhs{pul\n",
      "Shift 3: jxotq&suxk&ugrzotk\n",
      "Shift 4: iwnsp%rtwj%tfqynsj\n",
      "Shift 5: hvmro$qsvi$sepxmri\n",
      "Shift 6: gulqn#pruh#rdowlqh\n",
      "Shift 7: ftkpm\"oqtg\"qcnvkpg\n",
      "Shift 8: esjol!npsf!pbmujof\n",
      "Shift 9: drink more oaltine\n",
      "Shift 10: cqhmj\u001flnqd\u001fn`kshmd\n",
      "Shift 11: bpgli\u001e",
      "kmpc\u001e",
      "m_jrglc\n",
      "Shift 12: aofkh\u001d",
      "jlob\u001d",
      "l^iqfkb\n",
      "Shift 13: `nejg\u001c",
      "ikna\u001c",
      "k]hpeja\n",
      "Shift 14: _mdif\u001bhjm`\u001bj\\godi`\n",
      "Shift 15: ^lche\u001agil_\u001ai[fnch_\n",
      "Shift 16: ]kbgd\u0019fhk^\u0019hZembg^\n",
      "Shift 17: \\jafc\u0018egj]\u0018gYdlaf]\n",
      "Shift 18: [i`eb\u0017dfi\\\u0017fXck`e\\\n",
      "Shift 19: Zh_da\u0016ceh[\u0016eWbj_d[\n",
      "Shift 20: Yg^c`\u0015bdgZ\u0015dVai^cZ\n",
      "Shift 21: Xf]b_\u0014acfY\u0014cU`h]bY\n",
      "Shift 22: We\\a^\u0013`beX\u0013bT_g\\aX\n",
      "Shift 23: Vd[`]\u0012_adW\u0012aS^f[`W\n",
      "Shift 24: UcZ_\\\u0011^`cV\u0011`R]eZ_V\n",
      "Shift 25: TbY^[\u0010]_bU\u0010_Q\\dY^U\n"
     ]
    }
   ],
   "source": [
    "cipher_text = input(\"What is your cipher text you wish to crack? \")\n",
    "\n",
    "for shift in range(1, 26):\n",
    "    plain_text = \"\" #initialize empty variable plain_text\n",
    "    for c in cipher_text: #\n",
    "        plain_text += chr(int((ord(c) - shift)))\n",
    "    print(\"Shift {}: {}\".format(shift, plain_text))"
   ]
  },
  {
   "cell_type": "markdown",
   "id": "9ca471a5",
   "metadata": {},
   "source": [
    "### Cracking a substitution cipher with brute force\n",
    "\n",
    "Recall that a substitution cipher is a method of encryption where each letter in the plaintext is replaced by another letter according to a predetermined rule. For example, a simple substitution cipher might replace every \"a\" in the plaintext with \"c\", every \"b\" with \"d\", and so on.\n",
    "\n",
    "To brute force a substitution cipher, we need to try every possible combination of letter substitutions until we find the correct one that decodes the ciphertext. Use the code block below to explore how to brute force a substitution cipher.\n",
    "\n",
    "### The code not quite work? 26x25x24x23 .... possible combinations for the key\n",
    "\n",
    "#### Bruteforcing a substitution cipher (Code Block B)"
   ]
  },
  {
   "cell_type": "code",
   "execution_count": 2,
   "id": "3c519f44",
   "metadata": {},
   "outputs": [
    {
     "name": "stdout",
     "output_type": "stream",
     "text": [
      "What is the cipher text you wish to crack?  itkkg vgskr\n",
      "Shift 1: jullh whtls\n",
      "Shift 2: kvmmi xiumt\n",
      "Shift 3: lwnnj yjvnu\n",
      "Shift 4: mxook zkwov\n",
      "Shift 5: nyppl alxpw\n",
      "Shift 6: ozqqm bmyqx\n",
      "Shift 7: parrn cnzry\n",
      "Shift 8: qbsso doasz\n",
      "Shift 9: rcttp epbta\n",
      "Shift 10: sduuq fqcub\n",
      "Shift 11: tevvr grdvc\n",
      "Shift 12: ufwws hsewd\n",
      "Shift 13: vgxxt itfxe\n",
      "Shift 14: whyyu jugyf\n",
      "Shift 15: xizzv kvhzg\n",
      "Shift 16: yjaaw lwiah\n",
      "Shift 17: zkbbx mxjbi\n",
      "Shift 18: alccy nykcj\n",
      "Shift 19: bmddz ozldk\n",
      "Shift 20: cneea pamel\n",
      "Shift 21: doffb qbnfm\n",
      "Shift 22: epggc rcogn\n",
      "Shift 23: fqhhd sdpho\n",
      "Shift 24: griie teqip\n",
      "Shift 25: hsjjf ufrjq\n"
     ]
    }
   ],
   "source": [
    "import string\n",
    "\n",
    "# Define the ciphertext\n",
    "ciphertext = input(\"What is the cipher text you wish to crack? \")\n",
    "\n",
    "# Define the alphabet as a string of ascii lowercase letters\n",
    "alphabet = string.ascii_lowercase \n",
    "\n",
    "# Try every possible shift from 1 to 26\n",
    "for shift in range(1, 26):\n",
    "\n",
    "    # Initialize the plaintext with an empty string\n",
    "    plaintext = \"\"\n",
    "\n",
    "    # Try each letter in the ciphertext\n",
    "    for letter in ciphertext:\n",
    "\n",
    "        # Check if the letter is in the alphabet\n",
    "        if letter.lower() in alphabet:\n",
    "\n",
    "            # Get the index of the letter in the alphabet\n",
    "            index = alphabet.index(letter.lower())\n",
    "\n",
    "            # Shift the index by the shift amount\n",
    "            shifted_index = (index + shift) % 26\n",
    "\n",
    "            # Add the shifted letter to the plaintext\n",
    "            plaintext += alphabet[shifted_index]\n",
    "\n",
    "        else:\n",
    "            # Add the non-alphabetic character to the plaintext as is\n",
    "            plaintext += letter\n",
    "\n",
    "    # Print the plaintext for this shift\n",
    "    print(f\"Shift {shift}: {plaintext}\")"
   ]
  },
  {
   "cell_type": "code",
   "execution_count": 10,
   "id": "6fb21a0c",
   "metadata": {},
   "outputs": [
    {
     "name": "stdout",
     "output_type": "stream",
     "text": [
      "(0, 1, 2)\n",
      "(0, 2, 1)\n",
      "(1, 0, 2)\n",
      "(1, 2, 0)\n",
      "(2, 0, 1)\n",
      "(2, 1, 0)\n"
     ]
    }
   ],
   "source": [
    "# A Python program to print all permutations using library function\n",
    "from itertools import permutations\n",
    " \n",
    "# Get all permutations of [0, 1, 2]\n",
    "perm = permutations([0, 1, 2])\n",
    " \n",
    "# Print the obtained permutations\n",
    "for i in list(perm):\n",
    "    print(i)\n",
    "    # print(i[1])"
   ]
  },
  {
   "cell_type": "code",
   "execution_count": 1,
   "id": "c67c91d3",
   "metadata": {},
   "outputs": [
    {
     "name": "stdout",
     "output_type": "stream",
     "text": [
      "possible word is: abc\n",
      "possible word is: acb\n",
      "possible word is: bac\n",
      "possible word is: bca\n",
      "possible word is: cab\n",
      "possible word is: cba\n"
     ]
    }
   ],
   "source": [
    "# for simplicity, let's scale down the alphabets to first three characters only: abc\n",
    "# we will try to crack acb where its original word is cab without knowing the key\n",
    "# there are 3x2x1=6 possible combinations: abc, acb, bac, bca, cab, cba\n",
    "\n",
    "# A Python program to print all\n",
    "# permutations using library function\n",
    "from itertools import permutations\n",
    " \n",
    "# Get all permutations of [0, 1, 2]\n",
    "perm = permutations([0, 1, 2])\n",
    "\n",
    "# define the first three characters in alphabet\n",
    "alphabet = \"abc\"\n",
    "\n",
    "# loop each perm from above to find all possible combinations for the word\n",
    "for i in list(perm):\n",
    "    word = alphabet[i[0]] + alphabet[i[1]] + alphabet[i[2]]\n",
    "    print(\"possible word is:\", word)"
   ]
  },
  {
   "cell_type": "markdown",
   "id": "be78a29b",
   "metadata": {},
   "source": [
    "### Cracking a transposition cipher with brute force\n",
    "\n",
    "Recall that transposition cipher is a type of encryption where the letters of the plaintext are rearranged in a specific way, but the letters themselves are not replaced. Brute forcing a transposition cipher involves trying every possible rearrangement of the letters until the correct one is found.\n",
    "\n",
    "In this script, we first define the ciphertext as a string. We then define the length of the ciphertext as n.\n",
    "\n",
    "We then loop through every possible combination of the letter sequence in the ciphertext. For each possible sequence, we reverse the indices between i and j, inclusive, and use the resulting indices to rearrange the letters of the ciphertext. We then print the plaintext for that permutation.\n",
    "\n",
    "Note that this script will try a large number of permutations, which can be time-consuming for longer ciphertexts. In practice, you may want to limit the range of i and j to a smaller subset of the indices or use [heuristics](https://en.wikipedia.org/wiki/Heuristic) to try likely permutations first. \n",
    "\n",
    "This is may be a difficult example to grasp, as it makes use of lists and arrays, which are two Python concepts we have not discussed. That said, explore brute forcing transposition ciphers with the code block below. \n",
    "\n",
    "#### Bruteforcing a transposition cipher (Code Block C)"
   ]
  },
  {
   "cell_type": "code",
   "execution_count": 18,
   "id": "e844b72b",
   "metadata": {},
   "outputs": [
    {
     "name": "stdout",
     "output_type": "stream",
     "text": [
      "What is the cipher text you want to crack?  Tss smseh  ttea iiae sg\n",
      "Key size: 1\n",
      "Plaintext: Tss smseh  ttea iiae sg\n",
      "\n",
      "Key size: 2\n",
      "Plaintext: Tsssh taia gs me te ies\n",
      "\n",
      "Key size: 3\n",
      "Plaintext: T s t assse eiegsmhtai \n",
      "\n",
      "Key size: 4\n",
      "Plaintext: Tshti sm eisss aag et e\n",
      "\n",
      "Key size: 5\n",
      "Plaintext: Tm   sstissetig heas ae\n",
      "\n",
      "Key size: 6\n",
      "Plaintext: Tstaseeesha    ss igmti\n",
      "\n",
      "Key size: 7\n",
      "Plaintext: Teassh gs i  istamtese \n",
      "\n",
      "Key size: 8\n",
      "Plaintext: This is a test message \n",
      "\n",
      "Key size: 9\n",
      "Plaintext: T as est  tssegmas eihi\n",
      "\n",
      "Key size: 10\n",
      "Plaintext: T  stsstg esam sieiha e\n",
      "\n",
      "Key size: 11\n",
      "Plaintext: Ttgstse as misieahe   s\n",
      "\n"
     ]
    }
   ],
   "source": [
    "# Define the function to brute force the cipher\n",
    "def brute_force(ciphertext):\n",
    "    \n",
    "    # Get the length of the ciphertext\n",
    "    cipher_length = len(ciphertext)\n",
    "\n",
    "    # Loop through all possible key sizes (from 1 to half the cipher length)\n",
    "    for key_size in range(1, cipher_length // 2 + 1):\n",
    "        \n",
    "        # Calculate the number of columns in the transposition matrix\n",
    "        # Note that // rounds down to nearest integer\n",
    "        # if-else statement used to ensure the divisor is a multiple of the cipher-length\n",
    "        num_cols = cipher_length // key_size + (1 if cipher_length % key_size != 0 else 0)\n",
    "\n",
    "        # Calculate the number of empty cells at the end of the last row\n",
    "        num_empty_cells = num_cols * key_size - cipher_length\n",
    "\n",
    "        # Create the transposition matrix\n",
    "        # matrix composed of empty columns\n",
    "        # number of empty columns is equal to the number of columns for each key \n",
    "        # in the range key size, which is 1 to half the length of the cipher text\n",
    "        matrix = [[''] * num_cols for _ in range(key_size)]\n",
    "\n",
    "        # Populate the matrix with the ciphertext\n",
    "        # enumerate(ciphertext) creates a iterator value for each value in ciphertext\n",
    "        # i is iterator value, c is the character\n",
    "        # for each i,c combination, the row is the iterator mod key size\n",
    "        # for each i,c combination, the column is the iterator floor divided by\n",
    "        # the key size (or key size plus 1 if the row value is greater than or equal to the key size minus\n",
    "        # the number of empty cells)\n",
    "        # matrix composed of row, col values is equal to the character\n",
    "        for i, c in enumerate(ciphertext):\n",
    "            row = i % key_size\n",
    "            col = i // key_size + (1 if row >= key_size - num_empty_cells else 0)\n",
    "            matrix[row][col] = c\n",
    "\n",
    "        # Extract the plaintext from the matrix. How?\n",
    "        # First .join(row) strings together \n",
    "        # all the values in a row in the matrix into a string\n",
    "        # Second, the \"for row in matrix\" loops step 1 for all the rows\n",
    "        # Last, the outermost .join([...]) strings together all the results of the row concatenation\n",
    "        plaintext = ''.join([''.join(row) for row in matrix])\n",
    "\n",
    "        # Print the plaintext and the key size\n",
    "        print(f\"Key size: {key_size}\\nPlaintext: {plaintext}\\n\")\n",
    "\n",
    "# Test the function with an example ciphertext\n",
    "example_ciphertext = input(\"What is the cipher text you want to crack? \")\n",
    "brute_force(example_ciphertext)\n",
    "\n",
    "# Notice that the key size here is not the same as the key size from the Day 3 block, \n",
    "# but they are mathematically related! "
   ]
  },
  {
   "cell_type": "code",
   "execution_count": 17,
   "id": "19452cb5",
   "metadata": {},
   "outputs": [
    {
     "name": "stdout",
     "output_type": "stream",
     "text": [
      "16\n"
     ]
    }
   ],
   "source": [
    "print(100 // 6)"
   ]
  },
  {
   "cell_type": "code",
   "execution_count": null,
   "id": "55cbf741",
   "metadata": {},
   "outputs": [],
   "source": []
  }
 ],
 "metadata": {
  "kernelspec": {
   "display_name": "Python 3 (ipykernel)",
   "language": "python",
   "name": "python3"
  },
  "language_info": {
   "codemirror_mode": {
    "name": "ipython",
    "version": 3
   },
   "file_extension": ".py",
   "mimetype": "text/x-python",
   "name": "python",
   "nbconvert_exporter": "python",
   "pygments_lexer": "ipython3",
   "version": "3.9.7"
  }
 },
 "nbformat": 4,
 "nbformat_minor": 5
}
