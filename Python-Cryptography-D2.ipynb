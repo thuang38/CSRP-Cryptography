{
 "cells": [
  {
   "cell_type": "markdown",
   "metadata": {},
   "source": [
    "# Cryptography with Python (Day 2)"
   ]
  },
  {
   "cell_type": "markdown",
   "metadata": {},
   "source": [
    "## Data in Python"
   ]
  },
  {
   "cell_type": "markdown",
   "metadata": {},
   "source": [
    "In programming, we use data for various purposes. Imagine the data that your school has to keep on file for you as a student. You have: \n",
    "\n",
    "1. Text information, such as your name\n",
    "2. Date information, such as your birthdate or date that you first enrolled in the school \n",
    "3. Numerical information, such as your GPA and number of credit hours completed\n",
    "\n",
    "Now, think about how often this information is used - and by whom. Your teachers, counselors, and principals each need to be able to view and use this information at different times and places and for differnt reasons. But despite all of those variations, the data must remain the same! \n",
    "\n",
    "Imagine if one program the school used reported the dates as DD/MM/YYYY, while another reported it as MM/DD/YY.\n",
    "Perhaps you have a birthdate, such as May 12th, 2006 (05/12/2006). If the computer programs were programmed poorly, they could wind up swapping your birth day and birth month. \n",
    "\n",
    "Imagine your school all the sudden thought you were in the wrong grade level because your correct birthdate of\n",
    "**05/12/2006 (MM/DD/YYYY)** was incorrectly changed to **12/05/2006 (DD/MM/YYYY)**. This would be a disaster!\n",
    "\n",
    "Thankfully, programming languages are developed to pay special attention to the types of data being used and the formatting of that data. In Python, we can use _data types_ to explicitly state what type of data a given value is. "
   ]
  },
  {
   "cell_type": "markdown",
   "metadata": {},
   "source": [
    "### Examples of data types in Python:\n",
    "\n",
    "Below are the following data types that we will use in this module. There are many more that we are not covering, but understanding how to identify and use these data types \n",
    "- String (str), which is a non-numerical string of text that can include letters, numbers, and symbols\n",
    "- Integer (int), which is a whole number without a sign (no positive + sign or negative - sign)\n",
    "- Float (float), which is a number with decimals with up to 32 digits\n",
    "- Boolean (Bool), which is a true/false value that corresponds to 1 (true) or 0 (false)\n",
    "\n",
    "Each of the code blocks below takes an input data value as a particular data type, and then converts it to a new data type. Identify the original and final data types for each block."
   ]
  },
  {
   "cell_type": "markdown",
   "metadata": {},
   "source": [
    "##### String to boolean (Code Block A)"
   ]
  },
  {
   "cell_type": "code",
   "execution_count": 1,
   "metadata": {},
   "outputs": [
    {
     "name": "stdout",
     "output_type": "stream",
     "text": [
      "Please type your name: Tiffany Huang\n",
      "Your name is:  Tiffany Huang\n",
      "The original data type is:  <class 'str'>\n",
      "Your converted data is:  True\n",
      "Your converted data type is:  <class 'bool'>\n"
     ]
    }
   ],
   "source": [
    "InputData = str(input(\"Please type your name: \"))\n",
    "print(\"Your name is: \", InputData)\n",
    "print(\"The original data type is: \", type(InputData))\n",
    "ConvertedData = bool(InputData)\n",
    "print(\"Your converted data is: \", ConvertedData)\n",
    "print(\"Your converted data type is: \", type(ConvertedData))"
   ]
  },
  {
   "cell_type": "markdown",
   "metadata": {},
   "source": [
    "##### Integer to floating point (Code Block B)"
   ]
  },
  {
   "cell_type": "code",
   "execution_count": 2,
   "metadata": {},
   "outputs": [
    {
     "name": "stdout",
     "output_type": "stream",
     "text": [
      "Please type a whole number integer: -6\n",
      "Your input number is:   -6\n",
      "The original data type is:   <class 'int'>\n",
      "Your converted data is:  -6.0\n",
      "Your converted data type is:  <class 'float'>\n"
     ]
    }
   ],
   "source": [
    "InputData = int(input(\"Please type a whole number integer: \"))\n",
    "print(\"Your input number is:  \", InputData)\n",
    "print(\"The original data type is:  \", type(InputData))\n",
    "ConvertedData = float(InputData)\n",
    "print(\"Your converted data is: \", ConvertedData)\n",
    "print(\"Your converted data type is: \", type(ConvertedData))"
   ]
  },
  {
   "cell_type": "markdown",
   "metadata": {},
   "source": [
    "##### Floating point to integer (Code Block C)"
   ]
  },
  {
   "cell_type": "code",
   "execution_count": 3,
   "metadata": {},
   "outputs": [
    {
     "name": "stdout",
     "output_type": "stream",
     "text": [
      "Please type a number that has at least one digit in a decimal place: -3.9\n",
      "Your input number is:  -3.9\n",
      "The original data type is:  <class 'float'>\n",
      "Your converted data is:  -3\n",
      "Your converted data type is:  <class 'int'>\n"
     ]
    }
   ],
   "source": [
    "InputData = float(input(\"Please type a number that has at least one digit in a decimal place: \"))\n",
    "print(\"Your input number is: \", InputData)\n",
    "print(\"The original data type is: \", type(InputData))\n",
    "ConvertedData = int(InputData)\n",
    "print(\"Your converted data is: \", ConvertedData)\n",
    "print(\"Your converted data type is: \", type(ConvertedData))"
   ]
  },
  {
   "cell_type": "markdown",
   "metadata": {},
   "source": [
    "### Data is nothing new!\n",
    "\n",
    "Consider that encoding data for the purposes of transmission is over a hundred years old. One of the most well-known \"algorithms\" for encoding data for communication is *Morse Code*. Run the script below to see how information can be encoded from letters and punctuation into dots and dashes. \n",
    "\n",
    "*Python Note* - This script creates a dictionary, which you can think of a T-chart with two columns. Imagine the T-Chart like a vocabulary sheet -- in one row, the first column contains a word, and then the second column contains that word's defintion. \n",
    "\n",
    "##### Converting text to Morse Code (Code Block D)"
   ]
  },
  {
   "cell_type": "code",
   "execution_count": 1,
   "metadata": {},
   "outputs": [
    {
     "name": "stdout",
     "output_type": "stream",
     "text": [
      "What text do you want to convert to Morse code?hello this is bob\n",
      ".... . .-.. .-.. ---   - .... .. ...   .. ...   -... --- -... \n"
     ]
    }
   ],
   "source": [
    "# dictionary for mapping characters to morse code\n",
    "CHARS_TO_MORSE_CODE_MAPPING = {\n",
    "    'A': '.-',\n",
    "    'B': '-...',\n",
    "    'C': '-.-.',\n",
    "    'D': '-..',\n",
    "    'E': '.',\n",
    "    'F': '..-.',\n",
    "    'G': '--.',\n",
    "    'H': '....',\n",
    "    'I': '..',\n",
    "    'J': '.---',\n",
    "    'K': '-.-',\n",
    "    'L': '.-..',\n",
    "    'M': '--',\n",
    "    'N': '-.',\n",
    "    'O': '---',\n",
    "    'P': '.--.',\n",
    "    'Q': '--.-',\n",
    "    'R': '.-.',\n",
    "    'S': '...',\n",
    "    'T': '-',\n",
    "    'U': '..-',\n",
    "    'V': '...-',\n",
    "    'W': '.--',\n",
    "    'X': '-..-',\n",
    "    'Y': '-.--',\n",
    "    'Z': '--..',\n",
    "    '1': '.----',\n",
    "    '2': '..---',\n",
    "    '3': '...--',\n",
    "    '4': '....-',\n",
    "    '5': '.....',\n",
    "    '6': '-....',\n",
    "    '7': '--...',\n",
    "    '8': '---..',\n",
    "    '9': '----.',\n",
    "    '0': '-----',\n",
    "    '.': '.-.-.-',\n",
    "    ',': '--..--',\n",
    "    '?': '..--..',\n",
    "    '\\'': '· − − − − ·',\n",
    "    '!': '− · − · − −',\n",
    "    '/': '− · · − ·',\n",
    "    '(': '− · − − ·',\n",
    "    ')': '− · − − · −',\n",
    "    '&': '· − · · ·',\n",
    "    ':': '− − − · · ·',\n",
    "    ';': '− · − · − ·',\n",
    "    '=': '− · · · −',\n",
    "    '+': '· − · − ·',\n",
    "    '-': '− · · · · −',\n",
    "    '_': '· · − − · −',\n",
    "    '\"': '· − · · − ·',\n",
    "    '$': '· · · − · · −',\n",
    "    '@': '· − − · − ·',\n",
    "}\n",
    "\n",
    "# function to encode plain English text to morse code\n",
    "def to_morse_code(english_plain_text):\n",
    "    morse_code = ''\n",
    "    for char in english_plain_text:\n",
    "        # checking for space\n",
    "        # to add single space after every character and double space after every word\n",
    "        if char == ' ':\n",
    "            morse_code += '  '\n",
    "        else:\n",
    "            # adding encoded morse code to the result\n",
    "            morse_code += CHARS_TO_MORSE_CODE_MAPPING[char.upper()] + ' '\n",
    "    return morse_code\n",
    "\n",
    "morse_code = to_morse_code(input(\"What text do you want to convert to Morse code? \"))\n",
    "\n",
    "print(morse_code)"
   ]
  },
  {
   "cell_type": "markdown",
   "metadata": {
    "id": "Q3LR8sAM33_S"
   },
   "source": [
    "## Using Python to do math\n",
    "\n",
    "---\n",
    "\n",
    "To further explore Cryptography, we need to expand our tool kit of mathematical functions in Python. If our goal is to hide secret information, we won't get very far with just addition and subtraction."
   ]
  },
  {
   "cell_type": "markdown",
   "metadata": {
    "id": "5kAFW2EihYZU"
   },
   "source": [
    "### Math Operations in Python\n",
    "\n",
    "Think about yesterday's shift cipher example -- we used simple addition and subtraction to yield the ciphertext. They are the simplest mathematical functions we could apply to convert plaintext to ciphertext using a shift cipher. \n",
    "\n",
    "Explore Code Blocks A through D below to answer the two following questions: \n",
    "1. Can you deduce what mathematical function is being used?\n",
    "2. Can you identify the Python command that invokes the mathematical function? (for example, in Python \"+\" invokves addition and \"-\" invokes subtraction."
   ]
  },
  {
   "cell_type": "markdown",
   "metadata": {
    "id": "JcCjgktTm49-"
   },
   "source": [
    "##### Code Block E"
   ]
  },
  {
   "cell_type": "code",
   "execution_count": 4,
   "metadata": {
    "colab": {
     "base_uri": "https://localhost:8080/"
    },
    "id": "dTIIW7uYh5Cg",
    "outputId": "1445739f-59d0-4f0a-c158-235d5384cd73"
   },
   "outputs": [
    {
     "name": "stdout",
     "output_type": "stream",
     "text": [
      "Type in a whole digit integer: 100\n",
      "Type in a whole digit integer: 3\n",
      "The number resulting from this mathematical function is:  33\n"
     ]
    }
   ],
   "source": [
    "Number1 = int(input(\"Type in a whole digit integer: \"))\n",
    "Number2 = int(input(\"Type in a whole digit integer: \"))\n",
    "ResultingNumber = int(Number1 / Number2)\n",
    "print (\"The number resulting from this mathematical function is: \", ResultingNumber)"
   ]
  },
  {
   "cell_type": "markdown",
   "metadata": {},
   "source": [
    "##### Code Block F"
   ]
  },
  {
   "cell_type": "code",
   "execution_count": 8,
   "metadata": {},
   "outputs": [
    {
     "name": "stdout",
     "output_type": "stream",
     "text": [
      "Type in a whole digit integer: 5\n",
      "Type in a whole digit integer: 5\n",
      "25\n"
     ]
    }
   ],
   "source": [
    "Number1 = int(input(\"Type in a whole digit integer: \"))\n",
    "Number2 = int(input(\"Type in a whole digit integer: \"))\n",
    "ResultingNumber = int(Number1 * Number2)\n",
    "print (\"The number resulting from this mathematical function is: \", ResultingNumber)"
   ]
  },
  {
   "cell_type": "markdown",
   "metadata": {},
   "source": [
    "##### Code Block G"
   ]
  },
  {
   "cell_type": "code",
   "execution_count": 6,
   "metadata": {},
   "outputs": [
    {
     "name": "stdout",
     "output_type": "stream",
     "text": [
      "Type in a whole digit integer: 16\n",
      "Type in a whole digit integer: 2\n",
      "The number resulting from this mathematical function is:  4.0\n"
     ]
    }
   ],
   "source": [
    "import math ##This is a library, which is a form of abstraction within the Python language\n",
    "\n",
    "Number1 = int(input(\"Type in a whole digit integer: \"))\n",
    "Number2 = int(input(\"Type in a whole digit integer: \"))\n",
    "ResultingNumber = float(math.log(Number1,Number2))\n",
    "print (\"The number resulting from this mathematical function is: \", ResultingNumber)"
   ]
  },
  {
   "cell_type": "markdown",
   "metadata": {},
   "source": [
    "##### Code Block H"
   ]
  },
  {
   "cell_type": "code",
   "execution_count": 7,
   "metadata": {},
   "outputs": [
    {
     "name": "stdout",
     "output_type": "stream",
     "text": [
      "Type in a whole digit integer: 3\n",
      "Type in a whole digit integer: 2\n",
      "9\n"
     ]
    }
   ],
   "source": [
    "Number1 = int(input(\"Type in a whole digit integer: \"))\n",
    "Number2 = int(input(\"Type in a whole digit integer: \"))\n",
    "ResultingNumber = int(Number1 ** Number2)\n",
    "print (\"The number resulting from this mathematical function is: \", ResultingNumber)"
   ]
  },
  {
   "cell_type": "markdown",
   "metadata": {},
   "source": [
    "### More Info\n",
    "\n",
    "Here's a link that shows what you can do with the math library in Python: https://docs.python.org/3/library/math.html"
   ]
  },
  {
   "cell_type": "markdown",
   "metadata": {},
   "source": [
    "## Creating new ciphers\n",
    "\n",
    "Using the knowledge you have gained today about numbers and math in python, create your own cipher. You may use the code block below as a starter template for your cipher.\n",
    "\n",
    "##### Code Block I"
   ]
  },
  {
   "cell_type": "code",
   "execution_count": 7,
   "metadata": {},
   "outputs": [
    {
     "name": "stdout",
     "output_type": "stream",
     "text": [
      "Type your message here: hello world\n",
      "Enter your shift key here: 5\n",
      "ǾǯȒȒȡɉȡȰȒǪ\n"
     ]
    }
   ],
   "source": [
    "#You may modify any and all of this code, with the goal of producing ciphertext\n",
    "# using a method that is different than what is shown below. \n",
    "\n",
    "msg = input(\"Type your message here: \")\n",
    "shift = int(input(\"Enter your shift key here: \"))\n",
    "output = \"\"\n",
    "for l in msg:\n",
    "    # At minimum, you should modify the line below to use your own mathematics to produce the ciphertext\n",
    "    c = ord(l) * shift - 10\n",
    "    output += chr(c)\n",
    "  # c = ord(l) + shift \n",
    "print(output)"
   ]
  },
  {
   "cell_type": "markdown",
   "metadata": {},
   "source": [
    "## Optional if time allows: watch “Seven minutes, demonstrates implementation of Caesar cipher in Python” (Beth)"
   ]
  },
  {
   "cell_type": "code",
   "execution_count": null,
   "metadata": {},
   "outputs": [],
   "source": []
  }
 ],
 "metadata": {
  "colab": {
   "provenance": []
  },
  "kernelspec": {
   "display_name": "Python 3 (ipykernel)",
   "language": "python",
   "name": "python3"
  },
  "language_info": {
   "codemirror_mode": {
    "name": "ipython",
    "version": 3
   },
   "file_extension": ".py",
   "mimetype": "text/x-python",
   "name": "python",
   "nbconvert_exporter": "python",
   "pygments_lexer": "ipython3",
   "version": "3.9.7"
  }
 },
 "nbformat": 4,
 "nbformat_minor": 1
}
